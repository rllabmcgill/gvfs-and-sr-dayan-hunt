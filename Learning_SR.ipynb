{
 "cells": [
  {
   "cell_type": "markdown",
   "metadata": {},
   "source": [
    "# Assignment 6: Track 2 Project Report\n",
    "\n",
    "## Team: dayan-hunt\n",
    "* Nikhil Kakodkar: 260578689 | nikhil.kakodkar@mail.mcgill.ca\n",
    "* Karim Koreitem: 260460964 | karim.koreitem@mail.mcgill.ca"
   ]
  },
  {
   "cell_type": "code",
   "execution_count": 1,
   "metadata": {
    "collapsed": false
   },
   "outputs": [],
   "source": [
    "%matplotlib inline\n",
    "import numpy as np\n",
    "from numpy.linalg import inv\n",
    "from math import sqrt\n",
    "import matplotlib.pyplot as plt\n",
    "from sr_main import run_experiment"
   ]
  },
  {
   "cell_type": "code",
   "execution_count": 2,
   "metadata": {
    "collapsed": true
   },
   "outputs": [],
   "source": [
    "def init_default_config():\n",
    "    config = {'switch_reward': False,\n",
    "              'terminal_step' : 50000,\n",
    "              'switch_reward_at_step' : 25000,\n",
    "              'episode_length' : 20,\n",
    "              'maze_type' : 'twobytwo',\n",
    "              'maze_params' : {\n",
    "                  'row' : 2,\n",
    "                  'col' : 2,\n",
    "                  'start_row' : 1,\n",
    "                  'start_col' : 1\n",
    "              },\n",
    "              'learning_alg_params' : {\n",
    "                  'alpha' : 0.01,\n",
    "                  'gamma' : 0.9,\n",
    "              },              \n",
    "             }\n",
    "    return config"
   ]
  },
  {
   "cell_type": "markdown",
   "metadata": {},
   "source": [
    "## Question 1: Learning SR using TD(0)"
   ]
  },
  {
   "cell_type": "code",
   "execution_count": 3,
   "metadata": {
    "collapsed": false
   },
   "outputs": [],
   "source": [
    "config = init_default_config()\n",
    "result = run_experiment(config)\n",
    "terminal_step = config['terminal_step']\n",
    "approx_Phi_pi = result[terminal_step-1]['Phi_pi']"
   ]
  },
  {
   "cell_type": "code",
   "execution_count": 4,
   "metadata": {
    "collapsed": false
   },
   "outputs": [],
   "source": [
    "# Calculate exact phi_pi for 2x2 gridworld\n",
    "state_len = config['maze_params']['row']*config['maze_params']['col']\n",
    "exact_Phi_pi = np.zeros((state_len, state_len))\n",
    "gamma = config['learning_alg_params']['gamma']\n",
    "\n",
    "P_pi = np.array([[0.5, 0.25, 0.25, 0.],\n",
    "                 [0.25, 0.5, 0., 0.25],\n",
    "                 [0.25, 0., 0.5, 0.25],\n",
    "                 [0., 0., 0., 1.]])\n",
    "exact_Phi_pi = inv(np.identity(4)-gamma*P_pi)"
   ]
  },
  {
   "cell_type": "code",
   "execution_count": 5,
   "metadata": {
    "collapsed": false
   },
   "outputs": [
    {
     "name": "stdout",
     "output_type": "stream",
     "text": [
      "[[ 2.73291925  1.11801242  1.11801242  5.0310559 ]\n",
      " [ 1.11801242  2.27555054  0.45736872  6.14906832]\n",
      " [ 1.11801242  0.45736872  2.27555054  6.14906832]\n",
      " [ 0.          0.          0.         10.        ]]\n",
      "[[ 2.78771114  1.24167187  1.06281654  4.90778836]\n",
      " [ 1.06925882  2.3772078   0.42675849  6.12676461]\n",
      " [ 1.13711383  0.48426319  2.17491095  6.20370126]\n",
      " [ 0.          0.          0.         10.        ]]\n",
      "0.7615079661563093\n"
     ]
    }
   ],
   "source": [
    "print(exact_Phi_pi)\n",
    "print(approx_Phi_pi)\n",
    "print(np.sum(np.abs(exact_Phi_pi-approx_Phi_pi)))"
   ]
  },
  {
   "cell_type": "markdown",
   "metadata": {},
   "source": [
    "## Question 2: Value Prediction with SR\n"
   ]
  },
  {
   "cell_type": "code",
   "execution_count": 6,
   "metadata": {
    "collapsed": false
   },
   "outputs": [
    {
     "name": "stdout",
     "output_type": "stream",
     "text": [
      "[[-1.  ]\n",
      " [-0.75]\n",
      " [-0.75]\n",
      " [ 0.  ]]\n",
      "[[0.  ]\n",
      " [0.25]\n",
      " [0.25]\n",
      " [0.  ]]\n"
     ]
    }
   ],
   "source": [
    "r1_pi = np.array([-1, -0.75, -0.75, 0.0])\n",
    "r1_pi = r1_pi.reshape(4,1)\n",
    "r2_pi = np.array([0., 0.25, 0.25, 0.])\n",
    "r2_pi = r2_pi.reshape(4,1)\n",
    "\n",
    "print(r1_pi)\n",
    "print(r2_pi)\n",
    "\n"
   ]
  },
  {
   "cell_type": "code",
   "execution_count": 7,
   "metadata": {
    "collapsed": false
   },
   "outputs": [
    {
     "name": "stdout",
     "output_type": "stream",
     "text": [
      "[[-4.40993789]\n",
      " [-3.16770186]\n",
      " [-3.16770186]\n",
      " [ 0.        ]]\n",
      "[[-4.51607745]\n",
      " [-3.17223354]\n",
      " [-3.13149443]\n",
      " [ 0.        ]]\n",
      "[[-4.2052713 ]\n",
      " [-2.44083315]\n",
      " [-3.00292972]\n",
      " [ 0.        ]]\n"
     ]
    }
   ],
   "source": [
    "exact_V_pi_R1 = exact_Phi_pi.dot(r1_pi)\n",
    "approx_V_pi = approx_Phi_pi.dot(r1_pi)\n",
    "td_V_pi = result[terminal_step-1]['V_pi']\n",
    "print(exact_V_pi_R1)\n",
    "print(approx_V_pi)\n",
    "print(td_V_pi)"
   ]
  },
  {
   "cell_type": "markdown",
   "metadata": {},
   "source": [
    "## Question 3: Tracking with SR"
   ]
  },
  {
   "cell_type": "code",
   "execution_count": 8,
   "metadata": {
    "collapsed": false
   },
   "outputs": [],
   "source": [
    "config['switch_reward'] = True\n",
    "result = run_experiment(config)\n",
    "\n",
    "state_len = config['maze_params']['row']*config['maze_params']['col']\n",
    "terminal_step = config['terminal_step']\n",
    "switch_step = config['switch_reward_at_step']\n",
    "approx_Phi_pi = result[terminal_step-1]['Phi_pi']"
   ]
  },
  {
   "cell_type": "code",
   "execution_count": 9,
   "metadata": {
    "collapsed": false
   },
   "outputs": [],
   "source": [
    "exact_V_R1 = exact_V_pi_R1 \n",
    "exact_V_R2 = exact_Phi_pi.dot(r2_pi)\n",
    "\n",
    "V_pi_sr = np.zeros((state_len,1))\n",
    "V_pi_td = np.zeros((state_len,1))\n",
    "\n",
    "err_sr = []\n",
    "err_regular_td = []\n",
    "\n",
    "for s in range(terminal_step):\n",
    "    if s <= switch_step:\n",
    "        V_pi_sr = result[s]['Phi_pi'].dot(r1_pi)\n",
    "        err_sr.append(np.sum(np.abs(V_pi_sr - exact_V_R1)))\n",
    "        \n",
    "        V_pi_td = result[s]['V_pi']\n",
    "        err_regular_td.append(np.sum(np.abs(V_pi_td - exact_V_R1)))\n",
    "    else:\n",
    "        V_pi_sr = result[s]['Phi_pi'].dot(r2_pi)\n",
    "        err_sr.append(np.sum(np.abs(V_pi_sr - exact_V_R2)))\n",
    "    \n",
    "        V_pi_td = result[s]['V_pi']\n",
    "        err_regular_td.append(np.sum(np.abs(V_pi_td - exact_V_R2)))"
   ]
  },
  {
   "cell_type": "code",
   "execution_count": 10,
   "metadata": {
    "collapsed": false
   },
   "outputs": [
    {
     "data": {
      "text/plain": [
       "<matplotlib.legend.Legend at 0x7fe6f6f1c048>"
      ]
     },
     "execution_count": 10,
     "metadata": {},
     "output_type": "execute_result"
    },
    {
     "data": {
      "image/png": "[encoded data removed]",
      "text/plain": [
       "<Figure size 432x288 with 1 Axes>"
      ]
     },
     "metadata": {},
     "output_type": "display_data"
    }
   ],
   "source": [
    "# Plotting value function error for the two algorithms:\n",
    "plt.ylabel('Value function error')\n",
    "plt.xlabel('Number of steps')\n",
    "plt.title('Value Function error comparison between SR and regular TD(0)')\n",
    "plt.plot(err_sr, label='SR')\n",
    "plt.plot(err_regular_td, label='TD0')\n",
    "plt.axvline(x=switch_step, color='grey', linestyle='--')\n",
    "plt.legend()"
   ]
  },
  {
   "cell_type": "code",
   "execution_count": null,
   "metadata": {
    "collapsed": true
   },
   "outputs": [],
   "source": []
  }
 ],
 "metadata": {
  "kernelspec": {
   "display_name": "Python 3",
   "language": "python",
   "name": "python3"
  },
  "language_info": {
   "codemirror_mode": {
    "name": "ipython",
    "version": 3
   },
   "file_extension": ".py",
   "mimetype": "text/x-python",
   "name": "python",
   "nbconvert_exporter": "python",
   "pygments_lexer": "ipython3",
   "version": "3.5.2"
  }
 },
 "nbformat": 4,
 "nbformat_minor": 2
}
