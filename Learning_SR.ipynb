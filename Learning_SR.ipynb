{
 "cells": [
  {
   "cell_type": "code",
   "execution_count": 26,
   "metadata": {
    "collapsed": false
   },
   "outputs": [],
   "source": [
    "import json\n",
    "import mazes\n",
    "import sys, os\n",
    "import argparse\n",
    "import numpy as np\n",
    "from numpy.linalg import inv\n",
    "from math import sqrt\n",
    "import matplotlib.pyplot as plt\n",
    "from collections import OrderedDict\n",
    "from sr_main import run_learning_sr"
   ]
  },
  {
   "cell_type": "code",
   "execution_count": 27,
   "metadata": {
    "collapsed": true
   },
   "outputs": [],
   "source": [
    "def init_default_config():\n",
    "    config = {'terminal_step' : 50000,\n",
    "              'episode_length' : 20,\n",
    "              'maze_type' : 'SIMPLE_MAZE',\n",
    "              'maze_params' : {\n",
    "                  'row' : 2,\n",
    "                  'col' : 2,\n",
    "                  'start_row' : 1,\n",
    "                  'start_col' : 1\n",
    "              },\n",
    "              'learning_alg_params' : {\n",
    "                  'alpha' : 0.01,\n",
    "                  'gamma' : 0.95,\n",
    "              },              \n",
    "             }\n",
    "    return config"
   ]
  },
  {
   "cell_type": "markdown",
   "metadata": {},
   "source": [
    "## Question 1: Learning SR using TD(0)"
   ]
  },
  {
   "cell_type": "code",
   "execution_count": 28,
   "metadata": {
    "collapsed": false
   },
   "outputs": [],
   "source": [
    "config = init_default_config()\n",
    "result = run_learning_sr(config)\n",
    "terminal_step = config['terminal_step']\n",
    "approx_Phi_pi = result[terminal_step-1]['Phi_pi']"
   ]
  },
  {
   "cell_type": "code",
   "execution_count": 29,
   "metadata": {
    "collapsed": false
   },
   "outputs": [],
   "source": [
    "# Calculate exact phi_pi for 2x2 gridworld\n",
    "state_len = config['maze_params']['row']*config['maze_params']['col']\n",
    "exact_Phi_pi = np.zeros((state_len, state_len))\n",
    "gamma = config['learning_alg_params']['gamma']\n",
    "\n",
    "P_pi = np.array([[0.5, 0.25, 0.25, 0.],\n",
    "                 [0.25, 0.5, 0., 0.25],\n",
    "                 [0.25, 0., 0.5, 0.25],\n",
    "                 [0., 0., 0., 1.]])\n",
    "exact_Phi_pi = inv(np.identity(4)-gamma*P_pi)"
   ]
  },
  {
   "cell_type": "code",
   "execution_count": 30,
   "metadata": {
    "collapsed": false
   },
   "outputs": [
    {
     "name": "stdout",
     "output_type": "stream",
     "text": [
      "[[ 3.22456814  1.45873321  1.45873321 13.85796545]\n",
      " [ 1.45873321  2.56466502  0.65990312 15.31669866]\n",
      " [ 1.45873321  0.65990312  2.56466502 15.31669866]\n",
      " [ 0.          0.          0.         20.        ]]\n",
      "[[ 3.09827982  1.55418676  1.3783947  13.96850073]\n",
      " [ 1.29646147  2.59044603  0.59418355 15.5184105 ]\n",
      " [ 1.60969178  0.72458808  2.56601032 15.09912126]\n",
      " [ 0.          0.          0.         19.99999582]]\n",
      "1.302670224418\n"
     ]
    }
   ],
   "source": [
    "print(exact_Phi_pi)\n",
    "print(approx_Phi_pi)\n",
    "print(np.sum(np.abs(exact_Phi_pi-approx_Phi_pi)))"
   ]
  },
  {
   "cell_type": "code",
   "execution_count": 31,
   "metadata": {
    "collapsed": false
   },
   "outputs": [
    {
     "name": "stdout",
     "output_type": "stream",
     "text": [
      "{'Phi_pi': array([[6.85779469e-02, 0.00000000e+00, 5.63275420e-04, 5.53612555e-05],\n",
      "       [0.00000000e+00, 2.97950500e-02, 0.00000000e+00, 0.00000000e+00],\n",
      "       [0.00000000e+00, 0.00000000e+00, 4.91952380e-02, 8.79149624e-03],\n",
      "       [0.00000000e+00, 0.00000000e+00, 0.00000000e+00, 5.13424913e-01]]), 'experience': {'S': 3, 'A': 0, 'R': 0.0, 'S_prime': 3}, 'V_pi': array([[-0.26004077],\n",
      "       [-0.07671333],\n",
      "       [-0.07224012],\n",
      "       [ 0.        ]])}\n"
     ]
    }
   ],
   "source": [
    "print(result[66])"
   ]
  },
  {
   "cell_type": "markdown",
   "metadata": {},
   "source": [
    "## Question 2: Value Prediction with SR\n"
   ]
  },
  {
   "cell_type": "code",
   "execution_count": 32,
   "metadata": {
    "collapsed": false
   },
   "outputs": [
    {
     "name": "stdout",
     "output_type": "stream",
     "text": [
      "[[-1.  ]\n",
      " [-0.75]\n",
      " [-0.75]\n",
      " [ 0.  ]]\n"
     ]
    }
   ],
   "source": [
    "r_pi = np.array([-1, -0.75, -0.75, 0.0])\n",
    "r_pi = r_pi.reshape(4,1)\n",
    "print(r_pi)\n"
   ]
  },
  {
   "cell_type": "code",
   "execution_count": 33,
   "metadata": {
    "collapsed": false
   },
   "outputs": [
    {
     "name": "stdout",
     "output_type": "stream",
     "text": [
      "[[-5.41266795]\n",
      " [-3.87715931]\n",
      " [-3.87715931]\n",
      " [ 0.        ]]\n",
      "[[-5.29771592]\n",
      " [-3.68493365]\n",
      " [-4.07764058]\n",
      " [ 0.        ]]\n"
     ]
    }
   ],
   "source": [
    "exact_V_pi = exact_Phi_pi.dot(r_pi)\n",
    "approx_V_pi = approx_Phi_pi.dot(r_pi)\n",
    "print(exact_V_pi)\n",
    "print(approx_V_pi)"
   ]
  },
  {
   "cell_type": "code",
   "execution_count": 34,
   "metadata": {
    "collapsed": false
   },
   "outputs": [
    {
     "name": "stdout",
     "output_type": "stream",
     "text": [
      "[[-5.3062474 ]\n",
      " [-3.40206555]\n",
      " [-4.23330829]\n",
      " [ 0.        ]]\n"
     ]
    }
   ],
   "source": [
    "print(result[terminal_step-1]['V_pi'])"
   ]
  }
 ],
 "metadata": {
  "kernelspec": {
   "display_name": "Python 3",
   "language": "python",
   "name": "python3"
  },
  "language_info": {
   "codemirror_mode": {
    "name": "ipython",
    "version": 3
   },
   "file_extension": ".py",
   "mimetype": "text/x-python",
   "name": "python",
   "nbconvert_exporter": "python",
   "pygments_lexer": "ipython3",
   "version": "3.5.2"
  }
 },
 "nbformat": 4,
 "nbformat_minor": 2
}
