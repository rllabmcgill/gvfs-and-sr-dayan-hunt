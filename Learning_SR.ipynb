{
 "cells": [
  {
   "cell_type": "markdown",
   "metadata": {},
   "source": [
    "# Assignment 6: Track 2 Project Report\n",
    "\n",
    "## Team: dayan-hunt\n",
    "* Nikhil Kakodkar: 260578689 | nikhil.kakodkar@mail.mcgill.ca\n",
    "* Karim Koreitem: 260460964 | karim.koreitem@mail.mcgill.ca"
   ]
  },
  {
   "cell_type": "code",
   "execution_count": 4,
   "metadata": {
    "collapsed": false
   },
   "outputs": [],
   "source": [
    "%matplotlib inline\n",
    "import numpy as np\n",
    "from numpy.linalg import inv\n",
    "from math import sqrt\n",
    "import matplotlib.pyplot as plt\n",
    "from sr_main import run_experiment, compute_transition_mtx"
   ]
  },
  {
   "cell_type": "code",
   "execution_count": 5,
   "metadata": {
    "collapsed": true
   },
   "outputs": [],
   "source": [
    "def init_default_config():\n",
    "    config = {'switch_reward': False,\n",
    "              'terminal_step' : 50000,\n",
    "              'switch_reward_at_step' : 25000,\n",
    "              'episode_length' : 20,\n",
    "              'maze_type' : 'twobytwo',\n",
    "              'maze_params' : {\n",
    "                  'row' : 2,\n",
    "                  'col' : 2,\n",
    "                  'start_row' : 1,\n",
    "                  'start_col' : 1\n",
    "              },\n",
    "              'learning_alg_params' : {\n",
    "                  'alpha' : 0.01,\n",
    "                  'gamma' : 0.9,\n",
    "              },              \n",
    "             }\n",
    "    return config\n",
    "\n",
    "def init_default_config_tenbyten():\n",
    "    config = {'switch_reward': False,\n",
    "              'terminal_step' : 50000,\n",
    "              'switch_reward_at_step' : 25000,\n",
    "              'episode_length' : 20,\n",
    "              'maze_type' : 'tenbyten',\n",
    "              'maze_params' : {\n",
    "                  'row' : 10,\n",
    "                  'col' : 10,\n",
    "                  'start_row' : 1,\n",
    "                  'start_col' : 1\n",
    "              },\n",
    "              'learning_alg_params' : {\n",
    "                  'alpha' : 0.01,\n",
    "                  'gamma' : 0.9,\n",
    "              },              \n",
    "             }\n",
    "    return config"
   ]
  },
  {
   "cell_type": "markdown",
   "metadata": {},
   "source": [
    "## Question 1: Learning SR using TD(0)"
   ]
  },
  {
   "cell_type": "code",
   "execution_count": 6,
   "metadata": {
    "collapsed": false
   },
   "outputs": [],
   "source": [
    "config = init_default_config_tenbyten()\n",
    "result = run_experiment(config)\n",
    "terminal_step = config['terminal_step']\n",
    "approx_Phi_pi = result[terminal_step-1]['Phi_pi']"
   ]
  },
  {
   "cell_type": "code",
   "execution_count": 9,
   "metadata": {
    "collapsed": false
   },
   "outputs": [],
   "source": [
    "# Calculate exact phi_pi for 10x10 gridworld\n",
    "state_len = config['maze_params']['row']*config['maze_params']['col']\n",
    "exact_Phi_pi = np.zeros((state_len, state_len))\n",
    "gamma = config['learning_alg_params']['gamma']\n",
    "\n",
    "P_pi_twobytwo = np.array([[0.5, 0.25, 0.25, 0.],\n",
    "                          [0.25, 0.5, 0., 0.25],\n",
    "                          [0.25, 0., 0.5, 0.25],\n",
    "                          [0., 0., 0., 1.]])\n",
    "\n",
    "P_pi_tenbyten = compute_transition_mtx(config)\n",
    "\n",
    "exact_Phi_pi = inv(np.identity(state_len)-gamma*P_pi_tenbyten)"
   ]
  },
  {
   "cell_type": "code",
   "execution_count": 10,
   "metadata": {
    "collapsed": false
   },
   "outputs": [
    {
     "name": "stdout",
     "output_type": "stream",
     "text": [
      "[[2.74710869e+00 1.13535506e+00 4.96026726e-01 ... 6.26343000e-04\n",
      "  3.36244745e-04 1.51310135e-03]\n",
      " [1.13535506e+00 2.10778035e+00 8.64460340e-01 ... 7.24522639e-04\n",
      "  3.99060340e-04 1.84934610e-03]\n",
      " [4.96026726e-01 8.64460340e-01 1.98757006e+00 ... 9.17067301e-04\n",
      "  5.26374194e-04 2.55321850e-03]\n",
      " ...\n",
      " [6.26343000e-04 7.24522639e-04 9.17067301e-04 ... 1.89800603e+00\n",
      "  6.59457077e-01 1.80563231e+00]\n",
      " [3.36244745e-04 3.99060340e-04 5.26374194e-04 ... 6.59457077e-01\n",
      "  1.63854846e+00 4.13290933e+00]\n",
      " [0.00000000e+00 0.00000000e+00 0.00000000e+00 ... 0.00000000e+00\n",
      "  0.00000000e+00 1.00000000e+01]]\n",
      "[[2.51713965 1.14752993 0.51632091 ... 0.         0.         0.        ]\n",
      " [0.91312156 2.05232677 0.96432905 ... 0.         0.         0.        ]\n",
      " [0.39548418 0.73046517 1.91757682 ... 0.         0.         0.        ]\n",
      " ...\n",
      " [0.         0.         0.         ... 0.         0.         0.        ]\n",
      " [0.         0.         0.         ... 0.         0.         0.        ]\n",
      " [0.         0.         0.         ... 0.         0.         0.        ]]\n",
      "824.3923754452728\n"
     ]
    }
   ],
   "source": [
    "print(exact_Phi_pi)\n",
    "print(approx_Phi_pi)\n",
    "print(np.sum(np.abs(exact_Phi_pi-approx_Phi_pi)))"
   ]
  },
  {
   "cell_type": "markdown",
   "metadata": {},
   "source": [
    "## Question 2: Value Prediction with SR\n"
   ]
  },
  {
   "cell_type": "code",
   "execution_count": 11,
   "metadata": {
    "collapsed": false
   },
   "outputs": [
    {
     "name": "stdout",
     "output_type": "stream",
     "text": [
      "[[-1.  ]\n",
      " [-0.75]\n",
      " [-0.75]\n",
      " [ 0.  ]]\n",
      "[[0.  ]\n",
      " [0.25]\n",
      " [0.25]\n",
      " [0.  ]]\n"
     ]
    }
   ],
   "source": [
    "r1_pi = np.array([-1, -0.75, -0.75, 0.0])\n",
    "r1_pi = r1_pi.reshape(4,1)\n",
    "r2_pi = np.array([0., 0.25, 0.25, 0.])\n",
    "r2_pi = r2_pi.reshape(4,1)\n",
    "\n",
    "print(r1_pi)\n",
    "print(r2_pi)\n",
    "\n"
   ]
  },
  {
   "cell_type": "code",
   "execution_count": 12,
   "metadata": {
    "collapsed": false
   },
   "outputs": [
    {
     "ename": "ValueError",
     "evalue": "shapes (100,100) and (4,1) not aligned: 100 (dim 1) != 4 (dim 0)",
     "output_type": "error",
     "traceback": [
      "\u001b[0;31m---------------------------------------------------------------------------\u001b[0m",
      "\u001b[0;31mValueError\u001b[0m                                Traceback (most recent call last)",
      "\u001b[0;32m<ipython-input-12-cdebe11d6497>\u001b[0m in \u001b[0;36m<module>\u001b[0;34m()\u001b[0m\n\u001b[0;32m----> 1\u001b[0;31m \u001b[0mexact_V_pi_R1\u001b[0m \u001b[0;34m=\u001b[0m \u001b[0mexact_Phi_pi\u001b[0m\u001b[0;34m.\u001b[0m\u001b[0mdot\u001b[0m\u001b[0;34m(\u001b[0m\u001b[0mr1_pi\u001b[0m\u001b[0;34m)\u001b[0m\u001b[0;34m\u001b[0m\u001b[0m\n\u001b[0m\u001b[1;32m      2\u001b[0m \u001b[0mapprox_V_pi\u001b[0m \u001b[0;34m=\u001b[0m \u001b[0mapprox_Phi_pi\u001b[0m\u001b[0;34m.\u001b[0m\u001b[0mdot\u001b[0m\u001b[0;34m(\u001b[0m\u001b[0mr1_pi\u001b[0m\u001b[0;34m)\u001b[0m\u001b[0;34m\u001b[0m\u001b[0m\n\u001b[1;32m      3\u001b[0m \u001b[0mtd_V_pi\u001b[0m \u001b[0;34m=\u001b[0m \u001b[0mresult\u001b[0m\u001b[0;34m[\u001b[0m\u001b[0mterminal_step\u001b[0m\u001b[0;34m-\u001b[0m\u001b[0;36m1\u001b[0m\u001b[0;34m]\u001b[0m\u001b[0;34m[\u001b[0m\u001b[0;34m'V_pi'\u001b[0m\u001b[0;34m]\u001b[0m\u001b[0;34m\u001b[0m\u001b[0m\n\u001b[1;32m      4\u001b[0m \u001b[0mprint\u001b[0m\u001b[0;34m(\u001b[0m\u001b[0mexact_V_pi_R1\u001b[0m\u001b[0;34m)\u001b[0m\u001b[0;34m\u001b[0m\u001b[0m\n\u001b[1;32m      5\u001b[0m \u001b[0mprint\u001b[0m\u001b[0;34m(\u001b[0m\u001b[0mapprox_V_pi\u001b[0m\u001b[0;34m)\u001b[0m\u001b[0;34m\u001b[0m\u001b[0m\n",
      "\u001b[0;31mValueError\u001b[0m: shapes (100,100) and (4,1) not aligned: 100 (dim 1) != 4 (dim 0)"
     ]
    }
   ],
   "source": [
    "exact_V_pi_R1 = exact_Phi_pi.dot(r1_pi)\n",
    "approx_V_pi = approx_Phi_pi.dot(r1_pi)\n",
    "td_V_pi = result[terminal_step-1]['V_pi']\n",
    "print(exact_V_pi_R1)\n",
    "print(approx_V_pi)\n",
    "print(td_V_pi)"
   ]
  },
  {
   "cell_type": "markdown",
   "metadata": {},
   "source": [
    "## Question 3: Tracking with SR"
   ]
  },
  {
   "cell_type": "code",
   "execution_count": null,
   "metadata": {
    "collapsed": false
   },
   "outputs": [],
   "source": [
    "config['switch_reward'] = True\n",
    "result = run_experiment(config)\n",
    "\n",
    "state_len = config['maze_params']['row']*config['maze_params']['col']\n",
    "terminal_step = config['terminal_step']\n",
    "switch_step = config['switch_reward_at_step']\n",
    "approx_Phi_pi = result[terminal_step-1]['Phi_pi']"
   ]
  },
  {
   "cell_type": "code",
   "execution_count": null,
   "metadata": {
    "collapsed": false
   },
   "outputs": [],
   "source": [
    "exact_V_R1 = exact_V_pi_R1 \n",
    "exact_V_R2 = exact_Phi_pi.dot(r2_pi)\n",
    "\n",
    "V_pi_sr = np.zeros((state_len,1))\n",
    "V_pi_td = np.zeros((state_len,1))\n",
    "\n",
    "err_sr = []\n",
    "err_regular_td = []\n",
    "\n",
    "for s in range(terminal_step):\n",
    "    if s <= switch_step:\n",
    "        V_pi_sr = result[s]['Phi_pi'].dot(r1_pi)\n",
    "        err_sr.append(np.sum(np.abs(V_pi_sr - exact_V_R1)))\n",
    "        \n",
    "        V_pi_td = result[s]['V_pi']\n",
    "        err_regular_td.append(np.sum(np.abs(V_pi_td - exact_V_R1)))\n",
    "    else:\n",
    "        V_pi_sr = result[s]['Phi_pi'].dot(r2_pi)\n",
    "        err_sr.append(np.sum(np.abs(V_pi_sr - exact_V_R2)))\n",
    "    \n",
    "        V_pi_td = result[s]['V_pi']\n",
    "        err_regular_td.append(np.sum(np.abs(V_pi_td - exact_V_R2)))"
   ]
  },
  {
   "cell_type": "code",
   "execution_count": null,
   "metadata": {
    "collapsed": false
   },
   "outputs": [],
   "source": [
    "# Plotting value function error for the two algorithms:\n",
    "plt.ylabel('Value function error')\n",
    "plt.xlabel('Number of steps')\n",
    "plt.title('Value Function error comparison between SR and regular TD(0)')\n",
    "plt.plot(err_sr, label='SR')\n",
    "plt.plot(err_regular_td, label='TD0')\n",
    "plt.axvline(x=switch_step, color='grey', linestyle='--')\n",
    "plt.legend()"
   ]
  },
  {
   "cell_type": "markdown",
   "metadata": {
    "collapsed": true
   },
   "source": [
    "## Question 4: Eigendecomposition"
   ]
  },
  {
   "cell_type": "code",
   "execution_count": null,
   "metadata": {
    "collapsed": false
   },
   "outputs": [],
   "source": [
    "eig_vals, eig_vecs = np.linalg.eig(exact_Phi_pi)\n",
    "print(eig_vecs)"
   ]
  },
  {
   "cell_type": "code",
   "execution_count": null,
   "metadata": {
    "collapsed": false
   },
   "outputs": [],
   "source": [
    "for vec in eig_vecs.T:\n",
    "    new_vec = vec.reshape([2,2])\n",
    "    print(new_vec)\n",
    "    plt.figure()\n",
    "    plt.imshow(new_vec)"
   ]
  }
 ],
 "metadata": {
  "kernelspec": {
   "display_name": "Python 3",
   "language": "python",
   "name": "python3"
  },
  "language_info": {
   "codemirror_mode": {
    "name": "ipython",
    "version": 3
   },
   "file_extension": ".py",
   "mimetype": "text/x-python",
   "name": "python",
   "nbconvert_exporter": "python",
   "pygments_lexer": "ipython3",
   "version": "3.5.2"
  }
 },
 "nbformat": 4,
 "nbformat_minor": 2
}
