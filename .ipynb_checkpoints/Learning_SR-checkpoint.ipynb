{
 "cells": [
  {
   "cell_type": "code",
   "execution_count": 1,
   "metadata": {
    "collapsed": false
   },
   "outputs": [],
   "source": [
    "import json\n",
    "import mazes\n",
    "import sys, os\n",
    "import argparse\n",
    "import numpy as np\n",
    "from numpy.linalg import inv\n",
    "from math import sqrt\n",
    "import matplotlib.pyplot as plt\n",
    "from collections import OrderedDict\n",
    "from sr_main import run_learning_sr"
   ]
  },
  {
   "cell_type": "code",
   "execution_count": 2,
   "metadata": {
    "collapsed": true
   },
   "outputs": [],
   "source": [
    "def init_default_config():\n",
    "    config = {'terminal_step' : 50000,\n",
    "              'episode_length' : 10,\n",
    "              'maze_type' : 'SIMPLE_MAZE',\n",
    "              'maze_params' : {\n",
    "                  'row' : 2,\n",
    "                  'col' : 2,\n",
    "                  'start_row' : 1,\n",
    "                  'start_col' : 1\n",
    "              },\n",
    "              'learning_alg_params' : {\n",
    "                  'alpha' : 0.01,\n",
    "                  'gamma' : 0.95,\n",
    "              },              \n",
    "             }\n",
    "    return config"
   ]
  },
  {
   "cell_type": "markdown",
   "metadata": {},
   "source": [
    "## Question 1: Learning SR using TD(0)"
   ]
  },
  {
   "cell_type": "code",
   "execution_count": 3,
   "metadata": {
    "collapsed": false
   },
   "outputs": [],
   "source": [
    "config = init_default_config()\n",
    "result = run_learning_sr(config)\n",
    "terminal_step = config['terminal_step']\n",
    "approx_Phi_pi = result[terminal_step-1]['Phi_pi']"
   ]
  },
  {
   "cell_type": "code",
   "execution_count": 4,
   "metadata": {
    "collapsed": false
   },
   "outputs": [],
   "source": [
    "# Calculate exact phi_pi for 2x2 gridworld\n",
    "state_len = config['maze_params']['row']*config['maze_params']['col']\n",
    "exact_Phi_pi = np.zeros((state_len, state_len))\n",
    "gamma = config['learning_alg_params']['gamma']\n",
    "\n",
    "P_pi = np.array([[0.5, 0.25, 0.25, 0.],\n",
    "                 [0.25, 0.5, 0., 0.25],\n",
    "                 [0.25, 0., 0.5, 0.25],\n",
    "                 [0., 0., 0., 1.]])\n",
    "exact_Phi_pi = inv(np.identity(4)-gamma*P_pi)"
   ]
  },
  {
   "cell_type": "code",
   "execution_count": 5,
   "metadata": {
    "collapsed": false
   },
   "outputs": [
    {
     "name": "stdout",
     "output_type": "stream",
     "text": [
      "[[ 3.22456814  1.45873321  1.45873321 13.85796545]\n",
      " [ 1.45873321  2.56466502  0.65990312 15.31669866]\n",
      " [ 1.45873321  0.65990312  2.56466502 15.31669866]\n",
      " [ 0.          0.          0.         20.        ]]\n",
      "[[ 3.10632463  1.44504651  1.39367095 13.61328782]\n",
      " [ 1.08343326  2.41446027  0.49810384 15.52523091]\n",
      " [ 1.56773226  0.72503507  2.49549648 14.74254121]\n",
      " [ 0.          0.          0.         19.48479095]]\n",
      "1.9048458385950555\n"
     ]
    }
   ],
   "source": [
    "print(exact_Phi_pi)\n",
    "print(approx_Phi_pi)\n",
    "print(np.sum(exact_Phi_pi-approx_Phi_pi))"
   ]
  },
  {
   "cell_type": "code",
   "execution_count": 6,
   "metadata": {
    "collapsed": false
   },
   "outputs": [
    {
     "name": "stdout",
     "output_type": "stream",
     "text": [
      "{'Phi_pi': array([[2.32167885e-01, 5.62850188e-03, 3.64757846e-03, 4.02062344e-05],\n",
      "       [1.88439362e-03, 1.34663329e-01, 1.72261990e-06, 1.40814023e-03],\n",
      "       [2.18985306e-03, 5.35193998e-05, 1.35555770e-01, 2.15107093e-03],\n",
      "       [0.00000000e+00, 0.00000000e+00, 0.00000000e+00, 1.39545909e-01]]), 'experience': {'S': 0, 'A': 0, 'R': -1.0, 'S_prime': 0}, 'V_pi': array([[-0.84101987],\n",
      "       [-0.36081363],\n",
      "       [-0.37602802],\n",
      "       [ 0.        ]])}\n"
     ]
    }
   ],
   "source": [
    "print(result[66])"
   ]
  },
  {
   "cell_type": "markdown",
   "metadata": {},
   "source": [
    "## Question 2: Value Prediction with SR\n"
   ]
  },
  {
   "cell_type": "code",
   "execution_count": 7,
   "metadata": {
    "collapsed": false
   },
   "outputs": [
    {
     "name": "stdout",
     "output_type": "stream",
     "text": [
      "[[-1.  ]\n",
      " [-0.75]\n",
      " [-0.75]\n",
      " [ 0.  ]]\n"
     ]
    }
   ],
   "source": [
    "r_pi = np.array([-1, -0.75, -0.75, 0.0])\n",
    "r_pi = r_pi.reshape(4,1)\n",
    "print(r_pi)\n"
   ]
  },
  {
   "cell_type": "code",
   "execution_count": 8,
   "metadata": {
    "collapsed": false
   },
   "outputs": [
    {
     "name": "stdout",
     "output_type": "stream",
     "text": [
      "[[-5.41266795]\n",
      " [-3.87715931]\n",
      " [-3.87715931]\n",
      " [ 0.        ]]\n",
      "[[-5.23536273]\n",
      " [-3.26785635]\n",
      " [-3.98313092]\n",
      " [ 0.        ]]\n"
     ]
    }
   ],
   "source": [
    "exact_V_pi = exact_Phi_pi.dot(r_pi)\n",
    "approx_V_pi = approx_Phi_pi.dot(r_pi)\n",
    "print(exact_V_pi)\n",
    "print(approx_V_pi)"
   ]
  },
  {
   "cell_type": "code",
   "execution_count": 9,
   "metadata": {
    "collapsed": false
   },
   "outputs": [
    {
     "name": "stdout",
     "output_type": "stream",
     "text": [
      "[[-4.84891614]\n",
      " [-2.67169042]\n",
      " [-3.65181079]\n",
      " [ 0.        ]]\n"
     ]
    }
   ],
   "source": [
    "print(result[terminal_step-1]['V_pi'])"
   ]
  },
  {
   "cell_type": "code",
   "execution_count": null,
   "metadata": {
    "collapsed": true
   },
   "outputs": [],
   "source": []
  },
  {
   "cell_type": "code",
   "execution_count": null,
   "metadata": {
    "collapsed": true
   },
   "outputs": [],
   "source": []
  }
 ],
 "metadata": {
  "kernelspec": {
   "display_name": "Python 3",
   "language": "python",
   "name": "python3"
  },
  "language_info": {
   "codemirror_mode": {
    "name": "ipython",
    "version": 3
   },
   "file_extension": ".py",
   "mimetype": "text/x-python",
   "name": "python",
   "nbconvert_exporter": "python",
   "pygments_lexer": "ipython3",
   "version": "3.5.2"
  }
 },
 "nbformat": 4,
 "nbformat_minor": 2
}
